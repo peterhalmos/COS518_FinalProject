{
 "cells": [
  {
   "cell_type": "code",
   "execution_count": 4,
   "id": "cac644d2",
   "metadata": {},
   "outputs": [],
   "source": [
    "import importlib\n",
    "import VanillaChord as vc\n",
    "importlib.reload(vc)\n",
    "\n",
    "def print_fingers(node, m=8):\n",
    "    print(f'Finger table of {node.ID}')\n",
    "    print('start | interval | finger')\n",
    "    for i in range(m):\n",
    "        print(str(node.FingerTable['start'][i]) + ' | ' + str(node.FingerTable['interval'][i]) + ' | ' + str(node.FingerTable['finger'][i].ID))\n",
    "    return"
   ]
  },
  {
   "cell_type": "code",
   "execution_count": 5,
   "id": "8e603073",
   "metadata": {},
   "outputs": [],
   "source": [
    "import matplotlib.pyplot as plt\n",
    "import matplotlib.patches as patches\n",
    "import numpy as np\n",
    "\n",
    "def plot_Chord(pts, m, title_str='Current Chord graph'):\n",
    "    '''\n",
    "    pts: list (int)\n",
    "        List of Node IDs\n",
    "    m: int\n",
    "        Length of key representation in bits\n",
    "    title_str:\n",
    "        Title for plot\n",
    "    '''\n",
    "    MAX = 2**m\n",
    "    pts.append(MAX)\n",
    "    pts = np.array(pts)\n",
    "    angles = -2*np.pi*((pts%MAX)/MAX) + np.pi/2\n",
    "\n",
    "    xs, ys = np.cos(angles), np.sin(angles)\n",
    "\n",
    "    fig, ax = plt.subplots()\n",
    "    ax.set_xlim((-1.5, 1.5))\n",
    "    ax.set_ylim((-1.5, 1.5))\n",
    "    circle = patches.Circle((0, 0), radius=1, fill=False)\n",
    "    ax.add_patch(circle)\n",
    "    plt.scatter(xs[:-1], ys[:-1], c='b')\n",
    "    plt.scatter(xs[-1], ys[-1], c='r')\n",
    "    for i, txt in enumerate(pts):\n",
    "        ax.annotate(txt, (xs[i], ys[i]))\n",
    "    plt.xticks([])\n",
    "    plt.yticks([])\n",
    "    plt.title(title_str)\n",
    "    plt.show()"
   ]
  },
  {
   "cell_type": "markdown",
   "id": "dd2e4d9b-89b3-4b21-95be-f084097ceea8",
   "metadata": {},
   "source": [
    "# Validation Example\n",
    "\n",
    "Using the example of https://medium.com/@jingyang_56841/key-lookup-in-chord-with-finger-table-c0179bafae13 for validation."
   ]
  },
  {
   "cell_type": "code",
   "execution_count": 6,
   "id": "72c14e1c-6685-44f9-aece-cebf9383e5ad",
   "metadata": {
    "scrolled": true
   },
   "outputs": [
    {
     "name": "stdout",
     "output_type": "stream",
     "text": [
      "Join of node 2:\n",
      "Finger table of 45\n",
      "start | interval | finger\n",
      "46 | (46, 47) | 132\n",
      "47 | (47, 49) | 132\n",
      "49 | (49, 53) | 132\n",
      "53 | (53, 61) | 132\n",
      "61 | (61, 77) | 132\n",
      "77 | (77, 109) | 132\n",
      "109 | (109, 173) | 132\n",
      "173 | (173, 45) | 45\n",
      "Finger table of 132\n",
      "start | interval | finger\n",
      "133 | (133, 134) | 45\n",
      "134 | (134, 136) | 45\n",
      "136 | (136, 140) | 45\n",
      "140 | (140, 148) | 45\n",
      "148 | (148, 164) | 45\n",
      "164 | (164, 196) | 45\n",
      "196 | (196, 4) | 45\n",
      "4 | (4, 132) | 45\n",
      "Join of node 3:\n",
      "Finger table of 45\n",
      "start | interval | finger\n",
      "46 | (46, 47) | 99\n",
      "47 | (47, 49) | 99\n",
      "49 | (49, 53) | 99\n",
      "53 | (53, 61) | 99\n",
      "61 | (61, 77) | 99\n",
      "77 | (77, 109) | 99\n",
      "109 | (109, 173) | 132\n",
      "173 | (173, 45) | 45\n",
      "Finger table of 99\n",
      "start | interval | finger\n",
      "100 | (100, 101) | 132\n",
      "101 | (101, 103) | 132\n",
      "103 | (103, 107) | 132\n",
      "107 | (107, 115) | 132\n",
      "115 | (115, 131) | 132\n",
      "131 | (131, 163) | 132\n",
      "163 | (163, 227) | 45\n",
      "227 | (227, 99) | 45\n",
      "Join of node 4:\n",
      "Finger table of 45\n",
      "start | interval | finger\n",
      "46 | (46, 47) | 99\n",
      "47 | (47, 49) | 99\n",
      "49 | (49, 53) | 99\n",
      "53 | (53, 61) | 99\n",
      "61 | (61, 77) | 99\n",
      "77 | (77, 109) | 99\n",
      "109 | (109, 173) | 132\n",
      "173 | (173, 45) | 198\n",
      "Finger table of 198\n",
      "start | interval | finger\n",
      "199 | (199, 200) | 45\n",
      "200 | (200, 202) | 45\n",
      "202 | (202, 206) | 45\n",
      "206 | (206, 214) | 45\n",
      "214 | (214, 230) | 45\n",
      "230 | (230, 6) | 45\n",
      "6 | (6, 70) | 45\n",
      "70 | (70, 198) | 99\n"
     ]
    },
    {
     "data": {
      "image/png": "[encoded data removed]",
      "text/plain": [
       "<Figure size 640x480 with 1 Axes>"
      ]
     },
     "metadata": {},
     "output_type": "display_data"
    }
   ],
   "source": [
    "# Initializing nodes\n",
    "v1 = vc.Chord_Node(45, 8)\n",
    "v2 = vc.Chord_Node(132, 8)\n",
    "v3 = vc.Chord_Node(99, 8)\n",
    "v4 = vc.Chord_Node(198, 8)\n",
    "\n",
    "v1.join(v1)\n",
    "v2.join(v1)\n",
    "print('Join of node 2:')\n",
    "print_fingers(v1)\n",
    "print_fingers(v2)\n",
    "v3.join(v1)\n",
    "print('Join of node 3:')\n",
    "print_fingers(v1)\n",
    "print_fingers(v3)\n",
    "v4.join(v1)\n",
    "print('Join of node 4:')\n",
    "print_fingers(v1)\n",
    "print_fingers(v4)\n",
    "\n",
    "nodes = [45, 99, 132, 198]\n",
    "plot_Chord(nodes, 8)"
   ]
  },
  {
   "cell_type": "markdown",
   "id": "b80c4a91-a9c6-483d-9c62-37eb50056f97",
   "metadata": {},
   "source": [
    "# TODO: Test stabilization"
   ]
  },
  {
   "cell_type": "code",
   "execution_count": null,
   "id": "d8202baf-224b-4f31-ba44-a4ec5a73dbce",
   "metadata": {},
   "outputs": [],
   "source": []
  }
 ],
 "metadata": {
  "kernelspec": {
   "display_name": "peterenv2 [~/.conda/envs/peterenv2/]",
   "language": "python",
   "name": "conda_peterenv2"
  },
  "language_info": {
   "codemirror_mode": {
    "name": "ipython",
    "version": 3
   },
   "file_extension": ".py",
   "mimetype": "text/x-python",
   "name": "python",
   "nbconvert_exporter": "python",
   "pygments_lexer": "ipython3",
   "version": "3.12.3"
  }
 },
 "nbformat": 4,
 "nbformat_minor": 5
}
