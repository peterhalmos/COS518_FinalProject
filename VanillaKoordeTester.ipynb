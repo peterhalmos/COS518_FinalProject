{
 "cells": [
  {
   "cell_type": "code",
   "execution_count": 101,
   "metadata": {
    "colab": {
     "base_uri": "https://localhost:8080/"
    },
    "id": "v2Iony2As_JM",
    "outputId": "e66626a5-6ff6-4e55-9a63-dbece2a6e403"
   },
   "outputs": [
    {
     "name": "stdout",
     "output_type": "stream",
     "text": [
      "Join of node ID 3:\n",
      "Finger table of 1:\n",
      "Predecessor: 3\n",
      "Successor: 3\n",
      "Next (predecessor of 2*ID): 3\n",
      "Finger table of 3:\n",
      "Predecessor: 1\n",
      "Successor: 1\n",
      "Next (predecessor of 2*ID): 1\n",
      "Join of node ID 5:\n",
      "Finger table of 1:\n",
      "Predecessor: 5\n",
      "Successor: 3\n",
      "Next (predecessor of 2*ID): 3\n",
      "Finger table of 5:\n",
      "Predecessor: 3\n",
      "Successor: 1\n",
      "Next (predecessor of 2*ID): 3\n",
      "Join of node ID 7:\n",
      "Finger table of 1:\n",
      "Predecessor: 7\n",
      "Successor: 3\n",
      "Next (predecessor of 2*ID): 3\n",
      "Finger table of 7:\n",
      "Predecessor: 5\n",
      "Successor: 1\n",
      "Next (predecessor of 2*ID): 7\n"
     ]
    }
   ],
   "source": [
    "import VanillaKoorde as vk\n",
    "\n",
    "v1 = vk.Koorde_Node(1,3)\n",
    "v2 = vk.Koorde_Node(3,3)\n",
    "v3 = vk.Koorde_Node(5,3)\n",
    "v4 = vk.Koorde_Node(7,3)\n",
    "v1.join(v1)\n",
    "v2.join(v1)\n",
    "print('Join of node ID 3:')\n",
    "vk.print_info(v1)\n",
    "vk.print_info(v2)\n",
    "\n",
    "v3.join(v1)\n",
    "print('Join of node ID 5:')\n",
    "vk.print_info(v1)\n",
    "vk.print_info(v3)\n",
    "v4.join(v1)\n",
    "print('Join of node ID 7:')\n",
    "vk.print_info(v1)\n",
    "vk.print_info(v4)"
   ]
  }
 ],
 "metadata": {
  "colab": {
   "provenance": []
  },
  "kernelspec": {
   "display_name": "Python 3 (ipykernel)",
   "language": "python",
   "name": "python3"
  },
  "language_info": {
   "codemirror_mode": {
    "name": "ipython",
    "version": 3
   },
   "file_extension": ".py",
   "mimetype": "text/x-python",
   "name": "python",
   "nbconvert_exporter": "python",
   "pygments_lexer": "ipython3",
   "version": "3.11.7"
  }
 },
 "nbformat": 4,
 "nbformat_minor": 4
}
